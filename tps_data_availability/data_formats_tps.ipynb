{
 "cells": [
  {
   "cell_type": "code",
   "execution_count": 79,
   "id": "7b4016d0-f485-4d73-9a85-b156b14d38b0",
   "metadata": {},
   "outputs": [],
   "source": [
    "import os\n",
    "from glob import glob\n",
    "import pathlib\n",
    "import matplotlib.pyplot as plt\n",
    "import numpy as np\n",
    "from collections import Counter\n",
    "import pandas as pd\n",
    "import zipfile"
   ]
  },
  {
   "cell_type": "code",
   "execution_count": 80,
   "id": "6ea4a5e9-7f97-43ba-9f50-8a9c6c5ce53b",
   "metadata": {},
   "outputs": [],
   "source": [
    "HOME= os.path.expanduser(\"~\") # gets home directory\n",
    "TPS_DIRECTORY = 'tps_300' # CProject directory\n",
    "get_num_supp = (glob(os.path.join(HOME, TPS_DIRECTORY, \"*\", \"supplementaryfiles\")))\n",
    "supp_glob = (glob(os.path.join(HOME, TPS_DIRECTORY, \"*\", \"supplementaryfiles\", \"*\"),recursive=True))\n",
    "#C:\\Users\\shweata\\tps_300\\PMC3195254\\supplementaryfiles"
   ]
  },
  {
   "cell_type": "code",
   "execution_count": 81,
   "id": "3416cfb4-acb5-422a-a23a-a90ee38052e7",
   "metadata": {},
   "outputs": [
    {
     "data": {
      "text/plain": [
       "209"
      ]
     },
     "execution_count": 81,
     "metadata": {},
     "output_type": "execute_result"
    }
   ],
   "source": [
    "len(get_num_supp)"
   ]
  },
  {
   "cell_type": "code",
   "execution_count": 82,
   "id": "765ce13e-6eb5-4db7-974e-5c5082d83678",
   "metadata": {},
   "outputs": [],
   "source": [
    "supp_extension = []\n",
    "for supp_file_name in supp_glob:\n",
    "    supp_extension.append((pathlib.Path(supp_file_name).suffix))\n"
   ]
  },
  {
   "cell_type": "code",
   "execution_count": 83,
   "id": "6db7591a-e214-499b-a2a5-f266be673c54",
   "metadata": {},
   "outputs": [
    {
     "data": {
      "text/plain": [
       "<AxesSubplot:>"
      ]
     },
     "execution_count": 83,
     "metadata": {},
     "output_type": "execute_result"
    },
    {
     "data": {
      "image/png": "[encoded data removed]",
      "text/plain": [
       "<Figure size 432x288 with 1 Axes>"
      ]
     },
     "metadata": {
      "needs_background": "light"
     },
     "output_type": "display_data"
    }
   ],
   "source": [
    "ext_counts = Counter(supp_extension)\n",
    "df = pd.DataFrame.from_dict(ext_counts, orient='index')\n",
    "df.plot(kind='bar')"
   ]
  },
  {
   "cell_type": "code",
   "execution_count": 84,
   "id": "e78d1858-bb2f-4dd0-9666-60b156776cd0",
   "metadata": {},
   "outputs": [
    {
     "data": {
      "text/plain": [
       "Counter({'.doc': 22,\n",
       "         '.tif': 84,\n",
       "         '.pdf': 178,\n",
       "         '.html': 12,\n",
       "         '.PDF': 24,\n",
       "         '.xls': 61,\n",
       "         '.docx': 169,\n",
       "         '.eps': 7,\n",
       "         '.ppt': 9,\n",
       "         '.xlsx': 176,\n",
       "         '.pptx': 18,\n",
       "         '.txt': 6,\n",
       "         '.DOCX': 14,\n",
       "         '.JPEG': 9,\n",
       "         '.jpeg': 1,\n",
       "         '.null': 1,\n",
       "         '.zip': 33,\n",
       "         '.XLSX': 42,\n",
       "         '.png': 30,\n",
       "         '.TIF': 21,\n",
       "         '.TIFF': 18,\n",
       "         '.csv': 5,\n",
       "         '.DOC': 5,\n",
       "         '.XLS': 2,\n",
       "         '.ZIP': 3,\n",
       "         '.rar': 4,\n",
       "         '.FASTA': 1,\n",
       "         '.jpg': 18,\n",
       "         '.tsv': 1})"
      ]
     },
     "execution_count": 84,
     "metadata": {},
     "output_type": "execute_result"
    }
   ],
   "source": [
    "ext_counts"
   ]
  },
  {
   "cell_type": "code",
   "execution_count": 85,
   "id": "e9f9c376-52bc-4d5c-8bbd-36151644bff2",
   "metadata": {},
   "outputs": [],
   "source": [
    "zip_file_names = []\n",
    "for supp_file_name in supp_glob:\n",
    "    filename, file_extension = os.path.splitext(supp_file_name)\n",
    "    if file_extension == '.zip':\n",
    "        with zipfile.ZipFile(supp_file_name, 'r') as my_zip:\n",
    "            zip_file_names.extend((my_zip.namelist()))"
   ]
  },
  {
   "cell_type": "code",
   "execution_count": 87,
   "id": "c89db33d-ebc5-4c0d-af96-d948d90856fd",
   "metadata": {},
   "outputs": [],
   "source": [
    "zip_supp_extension = []\n",
    "for zip_file_name in zip_file_names:\n",
    "    zip_supp_extension.append((pathlib.Path(zip_file_name).suffix))"
   ]
  },
  {
   "cell_type": "code",
   "execution_count": 89,
   "id": "d753b3c2-2883-4ef9-bfb1-af920e5a25b8",
   "metadata": {},
   "outputs": [
    {
     "data": {
      "text/plain": [
       "<AxesSubplot:>"
      ]
     },
     "execution_count": 89,
     "metadata": {},
     "output_type": "execute_result"
    },
    {
     "data": {
      "image/png": "[encoded data removed]",
      "text/plain": [
       "<Figure size 432x288 with 1 Axes>"
      ]
     },
     "metadata": {
      "needs_background": "light"
     },
     "output_type": "display_data"
    }
   ],
   "source": [
    "zip_ext_counts = Counter(zip_supp_extension)\n",
    "df = pd.DataFrame.from_dict(zip_ext_counts, orient='index')\n",
    "df.plot(kind='bar')"
   ]
  },
  {
   "cell_type": "code",
   "execution_count": 90,
   "id": "f82b085b-792a-4d09-97a9-64414e566211",
   "metadata": {},
   "outputs": [
    {
     "data": {
      "text/plain": [
       "Counter({'.pdf': 45,\n",
       "         '.xlsx': 67,\n",
       "         '.docx': 18,\n",
       "         '': 29,\n",
       "         '.DS_Store': 2,\n",
       "         '.txt': 8,\n",
       "         '.fas': 16,\n",
       "         '.doc': 6,\n",
       "         '.graphml': 2,\n",
       "         '.sif': 2,\n",
       "         '.fasta': 3,\n",
       "         '.misa': 1,\n",
       "         '.tsv': 1,\n",
       "         '.pptx': 2,\n",
       "         '.tif': 17,\n",
       "         '.png': 2,\n",
       "         '.xls': 15,\n",
       "         '.csv': 1,\n",
       "         '.fa': 4,\n",
       "         '.jpg': 2,\n",
       "         '.tiff': 9,\n",
       "         '.db': 1})"
      ]
     },
     "execution_count": 90,
     "metadata": {},
     "output_type": "execute_result"
    }
   ],
   "source": [
    "zip_ext_counts"
   ]
  }
 ],
 "metadata": {
  "kernelspec": {
   "display_name": "Python 3",
   "language": "python",
   "name": "python3"
  },
  "language_info": {
   "codemirror_mode": {
    "name": "ipython",
    "version": 3
   },
   "file_extension": ".py",
   "mimetype": "text/x-python",
   "name": "python",
   "nbconvert_exporter": "python",
   "pygments_lexer": "ipython3",
   "version": "3.8.10"
  }
 },
 "nbformat": 4,
 "nbformat_minor": 5
}
