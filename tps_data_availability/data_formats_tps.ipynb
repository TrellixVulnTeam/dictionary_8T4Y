{
 "cells": [
  {
   "cell_type": "markdown",
   "id": "f9ee74f9-fad8-43c9-a022-19c6e9f93658",
   "metadata": {},
   "source": [
    "I used `pygetpapers` to download all the suplimentary files analysed in the notebook.   \n",
    "\n",
    "Query: \n",
    "```\n",
    "pygetpapers --terms C:\\Users\\shweata\\tps_pmcid.txt -k 400 -o \"tps_300\" --supp\n",
    "```\n",
    "Instead of specifying the query, I created a custom corpus by specifying PMCIDs. To do so, I created a text file with PMCIDS (comma-separted), and used `--terms` flags. You can check the text file, [here](https://github.com/petermr/dictionary/blob/main/tps_data_availability/tps_pmcid.txt).\n",
    "\n",
    "The corpus has 283 CTrees. But all of them wouldn't have supplementary data. \n",
    "\n",
    "The purpose of this notebook is to analyse how many of these papers have supplemental data, and what formats they are in. "
   ]
  },
  {
   "cell_type": "code",
   "execution_count": 113,
   "id": "7b4016d0-f485-4d73-9a85-b156b14d38b0",
   "metadata": {},
   "outputs": [],
   "source": [
    "import os\n",
    "from glob import glob\n",
    "import pathlib\n",
    "from collections import Counter\n",
    "import pandas as pd\n",
    "import zipfile"
   ]
  },
  {
   "cell_type": "code",
   "execution_count": 114,
   "id": "6ea4a5e9-7f97-43ba-9f50-8a9c6c5ce53b",
   "metadata": {},
   "outputs": [],
   "source": [
    "HOME= os.path.expanduser(\"~\") # gets home directory\n",
    "TPS_DIRECTORY = 'tps_300' # CProject directory\n",
    "get_num_supp = (glob(os.path.join(HOME, TPS_DIRECTORY, \"*\", \"supplementaryfiles\")))\n",
    "supp_glob = (glob(os.path.join(HOME, TPS_DIRECTORY, \"*\", \"supplementaryfiles\", \"*\"),recursive=True))\n",
    "#C:\\Users\\shweata\\tps_300\\PMC3195254\\supplementaryfiles"
   ]
  },
  {
   "cell_type": "code",
   "execution_count": 115,
   "id": "3416cfb4-acb5-422a-a23a-a90ee38052e7",
   "metadata": {},
   "outputs": [
    {
     "data": {
      "text/plain": [
       "209"
      ]
     },
     "execution_count": 115,
     "metadata": {},
     "output_type": "execute_result"
    }
   ],
   "source": [
    "len(get_num_supp)"
   ]
  },
  {
   "cell_type": "code",
   "execution_count": 116,
   "id": "765ce13e-6eb5-4db7-974e-5c5082d83678",
   "metadata": {},
   "outputs": [],
   "source": [
    "supp_extension = []\n",
    "for supp_file_name in supp_glob:\n",
    "    supp_extension.append((pathlib.Path(supp_file_name).suffix).lower())\n"
   ]
  },
  {
   "cell_type": "code",
   "execution_count": 117,
   "id": "6db7591a-e214-499b-a2a5-f266be673c54",
   "metadata": {},
   "outputs": [
    {
     "data": {
      "text/plain": [
       "<AxesSubplot:>"
      ]
     },
     "execution_count": 117,
     "metadata": {},
     "output_type": "execute_result"
    },
    {
     "data": {
      "image/png": "[encoded data removed]",
      "text/plain": [
       "<Figure size 432x288 with 1 Axes>"
      ]
     },
     "metadata": {
      "needs_background": "light"
     },
     "output_type": "display_data"
    }
   ],
   "source": [
    "ext_counts = Counter(supp_extension)\n",
    "df = pd.DataFrame.from_dict(ext_counts, orient='index')\n",
    "df.plot(kind='bar')"
   ]
  },
  {
   "cell_type": "code",
   "execution_count": 118,
   "id": "e78d1858-bb2f-4dd0-9666-60b156776cd0",
   "metadata": {},
   "outputs": [
    {
     "data": {
      "text/plain": [
       "Counter({'.doc': 27,\n",
       "         '.tif': 105,\n",
       "         '.pdf': 202,\n",
       "         '.html': 12,\n",
       "         '.xls': 63,\n",
       "         '.docx': 183,\n",
       "         '.eps': 7,\n",
       "         '.ppt': 9,\n",
       "         '.xlsx': 218,\n",
       "         '.pptx': 18,\n",
       "         '.txt': 6,\n",
       "         '.jpeg': 10,\n",
       "         '.null': 1,\n",
       "         '.zip': 36,\n",
       "         '.png': 30,\n",
       "         '.tiff': 18,\n",
       "         '.csv': 5,\n",
       "         '.rar': 4,\n",
       "         '.fasta': 1,\n",
       "         '.jpg': 18,\n",
       "         '.tsv': 1})"
      ]
     },
     "execution_count": 118,
     "metadata": {},
     "output_type": "execute_result"
    }
   ],
   "source": [
    "ext_counts"
   ]
  },
  {
   "cell_type": "code",
   "execution_count": 119,
   "id": "e9f9c376-52bc-4d5c-8bbd-36151644bff2",
   "metadata": {},
   "outputs": [
    {
     "data": {
      "text/plain": [
       "283"
      ]
     },
     "execution_count": 119,
     "metadata": {},
     "output_type": "execute_result"
    }
   ],
   "source": [
    "zip_file_names = []\n",
    "for supp_file_name in supp_glob:\n",
    "    filename, file_extension = os.path.splitext(supp_file_name)\n",
    "    if file_extension.lower() == '.zip':\n",
    "        with zipfile.ZipFile(supp_file_name, 'r') as my_zip:\n",
    "            zip_file_names.extend((my_zip.namelist()))\n",
    "            \n",
    "len(zip_file_names)"
   ]
  },
  {
   "cell_type": "code",
   "execution_count": 120,
   "id": "c89db33d-ebc5-4c0d-af96-d948d90856fd",
   "metadata": {},
   "outputs": [],
   "source": [
    "zip_supp_extension = []\n",
    "for zip_file_name in zip_file_names:\n",
    "    zip_supp_extension.append((pathlib.Path(zip_file_name).suffix).lower())"
   ]
  },
  {
   "cell_type": "code",
   "execution_count": 121,
   "id": "d753b3c2-2883-4ef9-bfb1-af920e5a25b8",
   "metadata": {},
   "outputs": [
    {
     "data": {
      "text/plain": [
       "<AxesSubplot:>"
      ]
     },
     "execution_count": 121,
     "metadata": {},
     "output_type": "execute_result"
    },
    {
     "data": {
      "image/png": "[encoded data removed]",
      "text/plain": [
       "<Figure size 432x288 with 1 Axes>"
      ]
     },
     "metadata": {
      "needs_background": "light"
     },
     "output_type": "display_data"
    }
   ],
   "source": [
    "zip_ext_counts = Counter(zip_supp_extension)\n",
    "df = pd.DataFrame.from_dict(zip_ext_counts, orient='index')\n",
    "df.plot(kind='bar')"
   ]
  },
  {
   "cell_type": "code",
   "execution_count": 122,
   "id": "f82b085b-792a-4d09-97a9-64414e566211",
   "metadata": {},
   "outputs": [
    {
     "data": {
      "text/plain": [
       "Counter({'.pdf': 47,\n",
       "         '.xlsx': 67,\n",
       "         '.docx': 18,\n",
       "         '.gff': 2,\n",
       "         '': 34,\n",
       "         '.ds_store': 3,\n",
       "         '.txt': 8,\n",
       "         '.fas': 16,\n",
       "         '.doc': 6,\n",
       "         '.graphml': 2,\n",
       "         '.sif': 2,\n",
       "         '.fasta': 3,\n",
       "         '.misa': 1,\n",
       "         '.tsv': 1,\n",
       "         '.pptx': 2,\n",
       "         '.tif': 17,\n",
       "         '.png': 2,\n",
       "         '.xls': 15,\n",
       "         '.csv': 1,\n",
       "         '.fa': 24,\n",
       "         '.jpg': 2,\n",
       "         '.tiff': 9,\n",
       "         '.db': 1})"
      ]
     },
     "execution_count": 122,
     "metadata": {},
     "output_type": "execute_result"
    }
   ],
   "source": [
    "zip_ext_counts"
   ]
  },
  {
   "cell_type": "code",
   "execution_count": 126,
   "id": "05699ba8-6f84-4ffb-ab31-521558aa4ebf",
   "metadata": {},
   "outputs": [],
   "source": [
    "df = pd.DataFrame(get_num_supp)\n",
    "df.columns=['path']\n"
   ]
  },
  {
   "cell_type": "code",
   "execution_count": 124,
   "id": "470ecea0-e224-48ee-87c6-c3a8db76bfb1",
   "metadata": {},
   "outputs": [],
   "source": [
    "PMCID = []\n",
    "for index, row in df.iterrows():\n",
    "    split_path = row[\"path\"].split('\\\\')\n",
    "    PMCID.append(split_path[4])\n",
    "df[\"PMCID\"] = PMCID"
   ]
  },
  {
   "cell_type": "code",
   "execution_count": 125,
   "id": "51b45e45-c368-4ff9-820a-b1e0b845b6e6",
   "metadata": {},
   "outputs": [],
   "source": [
    "df.to_csv('supp_exists.csv')"
   ]
  },
  {
   "cell_type": "code",
   "execution_count": null,
   "id": "da10bfd4-7471-4d23-8769-08646dc82e1c",
   "metadata": {},
   "outputs": [],
   "source": []
  }
 ],
 "metadata": {
  "kernelspec": {
   "display_name": "Python 3",
   "language": "python",
   "name": "python3"
  },
  "language_info": {
   "codemirror_mode": {
    "name": "ipython",
    "version": 3
   },
   "file_extension": ".py",
   "mimetype": "text/x-python",
   "name": "python",
   "nbconvert_exporter": "python",
   "pygments_lexer": "ipython3",
   "version": "3.8.10"
  }
 },
 "nbformat": 4,
 "nbformat_minor": 5
}
