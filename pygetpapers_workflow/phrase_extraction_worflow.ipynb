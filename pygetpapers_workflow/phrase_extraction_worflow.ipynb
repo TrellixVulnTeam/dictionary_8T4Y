{
 "cells": [
  {
   "cell_type": "code",
   "execution_count": 1,
   "id": "8dc4ba86-af5e-44bc-9131-2f0ffdb683e6",
   "metadata": {},
   "outputs": [],
   "source": [
    "QUERY = \"abies\" \n",
    "HITS = 20\n",
    "OUTPUT = \"test_abies\""
   ]
  },
  {
   "cell_type": "code",
   "execution_count": 2,
   "id": "fc5965fc-0bbe-4369-aae0-eb3dfc6de407",
   "metadata": {},
   "outputs": [
    {
     "data": {
      "text/plain": [
       "0"
      ]
     },
     "execution_count": 2,
     "metadata": {},
     "output_type": "execute_result"
    }
   ],
   "source": [
    "import os\n",
    "os.system(f\"pygetpapers -q {QUERY} -k {HITS} -o {OUTPUT} -x\")\n",
    "os.system(f\"ami -p {OUTPUT} section\")"
   ]
  },
  {
   "cell_type": "code",
   "execution_count": null,
   "id": "12654033-ce79-4421-89d5-c873c4dd6e03",
   "metadata": {},
   "outputs": [],
   "source": []
  },
  {
   "cell_type": "code",
   "execution_count": 9,
   "id": "e3a764cb-64e8-4107-9714-e932ffd06f35",
   "metadata": {},
   "outputs": [],
   "source": [
    "import os\n",
    "import glob\n",
    "WORKING_DIRECTORY = os.getcwd()\n",
    "glob_results = glob.glob(os.path.join(WORKING_DIRECTORY,OUTPUT,\"*\", \"sections\", \"*body\", \"*results*\",\"**\", \"*_p.xml\"), recursive = True)"
   ]
  },
  {
   "cell_type": "code",
   "execution_count": 12,
   "id": "ff3ad521-38a0-4630-ae66-d62b3533d256",
   "metadata": {},
   "outputs": [],
   "source": [
    "import xml.etree.ElementTree as ET\n",
    "file1 = open(\"results_glob.txt\",\"w+\", encoding='utf-8')\n",
    "for result in glob_results:\n",
    "    tree = ET.parse(result)\n",
    "    root = tree.getroot()\n",
    "    for para in root.iter('p'):\n",
    "        #file1.write('para.text')\n",
    "        print (para.text, file = file1)"
   ]
  },
  {
   "cell_type": "code",
   "execution_count": 15,
   "id": "a8ae4479-0427-40d8-8218-713e9a69abf8",
   "metadata": {},
   "outputs": [
    {
     "name": "stdout",
     "output_type": "stream",
     "text": [
      "['dna types × dcl ), asv numbers differed significantly', 'studies discussing tree failure commonly discuss root failure', 'first two pca axes explain together 69', 'effective temperatures (≥ 5 ° c', 'fractionated using preparative size exclusion chromatography', 'p4 clearly designated two different pectin populations', 'branch failure reported additionally weak branch unions', '8 %; figure microscopic charcoal influx', 'class annotations within dcls among dna types', 'frequencies differed among dna types indicating', 'asv numbers among dna types', 'lago verdarolo starts around 14', 'relatively similar hydrodynamic volumes since', 'civil engineering activities causing damage', 'proportion behaving like codominant stems', 'full binary logistic regression model', 'study commonly investigated one coniferous species', 'increasingly abundant nap characterize ver', 'urban environmental circumstances cause trees', '4 %, axis 2 26', 'stem failure comprised 320 species', 'aqueous spruce bark extracts attained', 'indicator asvs identified using aldex2', 'studies contained three deciduous gymnosperms', 'indicator asv proportions across logs', 'decomposing spruce seedling roots compared', 'decomposing spruce roots 4 months', 'investigate stem failure also mentioned', 'reported factors diameter breast height', 'lago verdarolo pollen dataset', '161 studies report correlations related', 'certain bacterial class within', 'individual binary logistic regressions', 'bacterial community composition differed', 'investigate root failure reported', 'branch failure 32 species', 'approximately 85 – 90', 'throughput sequencing largely depends', 'extracts attained via uae', 'root failure 102 species', 'spruce bark extracts attained', 'oldest statistically significant lpaz', 'total environmental dna pool', 'every variant obtained using', 'weighted mean correlation coefficients', 'used almost identical parameters', 'big differences among dcls', '161 observational studies reported', 'three dna types obtained', 'average molar mass distributions', 'additional 10 – 15', 'different dcls jointly across', '90 – 93 mol', 'different pearson correlation analysis', 'although slight differences occurred', 'pinene exceeded (+)- α', 'cellulose concentration remained unchanged', 'total galacturonic acid ),', 'significant differences registered regarding', 'spruce bark extracts tpc', 'deciduous trees reported characteristics', 'molar mass branched polysaccharides', 'intracellular dna fractions compared', 'detailed statistical information tables', 'extracellular dna persistence might', 'always reached higher percentages', 'systematic review reported wind', '≤ 3 sample groups', 'overall taxonomic distribution within', 'studies reporting associated factors', 'uae achieved similar results', 'regarding branch failure', 'tree failure types', 'regarding dna types', 'three dna types', '161 observational studies', 'dna types derived', 'individual polysaccharide populations', 'figure s1 ).', 'three failure types', 'significantly lower levels', 'average molar mass', 'two deciduous species', 'two coniferous species', 'total dna pool', 'studies reporting failure', 'extracellular persistence using', 'absent graft unions', '14 different factors', 'intracellular dna fraction', 'dna type targeted', 'spruce seedling decapitation', 'extracellular dna cannot', 'five different species', 'one dna type', 'multiple studies reported', '64 ± 10', 'tree failure mentioned', 'differentially detected among', 'different collecting sites', 'three dcls together', 'significant differences occurred', 'explained two times', 'depth model relies', 'axis 1 42', 'p1 – p6', 'relatively young age', 'extracellular dna fraction', 'among sample groups', 'first significant increase', 'dry mass yield', 'variation among dcls', 'ternary diagram shows', 'dbh ), height', '700 cal bp', 'treated bark extract', '4 mg pyrogallol', 'lower turgor pressure', '2 ′- azinobis', 'studies investigated one', 'different pectic domains', 'bacterial taxa detected', 'ecological analysis reached', 'radical scavenging assay', 'fungal communities associated', 'fraction p5 appeared', 'efficient extraction technique', 'achieve higher yields', '1s )-(−)- α', 'reported effect sizes', 'linked galacturonic acid', '142 different factors', 'fungi causing decay', 'entire decay process', 'branches also fail', 'ap percentages coupled', '54 ± 1', 'p3 – p5', '41 – 0', 'nine sample groups', 'branch failure', '64 microbiome analysis', 'lower relative abundance', 'dna types', 'one deadwood log', 'molecular weight distributions', 'literature search resulted', 'hs )- gc', 'essential oils varied', 'deciduous trees included', 'smaller hg domains', 'long hg domains', 'glycosidic linkage composition', 'increasing tree age', 'although still high', 'failure types', 'variants excepting md', 'asvs observed solely', '3 %) liquid', 'one log sample', 'root failure', 'high relative abundance', 'four pinaceae eos', 'observed significant increase', 'several asvs annotated', 'asvs ’ intra', 'detected significant effect', 'pure arabinans could', 'primary exogenous causes', 'low relative abundance', 'decomposing roots', 'significantly higher', 'failure reported', 'report failure', 'antioxidant activity results', 'study populations', 'md us variant', 'first cause', 'decreasing macromolecular sizes', 'stem failure', 'extracellular dna', 'tree failure', 'main sec fractions', 'spruce bark', 'indicator asvs', 'different dcls', 'similar proportion', 'reported correlations', 'thus indicating', 'systematic review', 'root biomass', 'genera ),', 'gas chromatography', 'coniferous trees', '15 trees', 'three species', 'pectin domains', 'studies regarding', 'different factors', 'significant differences', 'investigated trees', 'extracts originating', 'uae might', 'norway spruce', 'three dcls', 'variants obtained', 'macromolecular model', 'parent pectin', 'ecological differences', 'asvs across', 'detected across', 'microbiome studies', 'read proportions', 'g ),', 'antibacterial activities', 'comparable within', 'abundant asvs', 'whereas p4', 'strong correlation', 'primary cause', 'main characteristics', 'also noted', 'occur within', 'taxodium species', 'key species', 'ginkgo species', 'overall distribution', 'bacterial classes', 'sample groups', 'mass spectrometry', 'results regarding', 'tree greenery', 'studies included', 'included studies', '92 studies', '47 studies', '22 studies', '2 times', 'statistical tools', 'sequencing reads', 'inferred mean', 'factors associated', 'factor related', 'essential oils', 'either dcls', 'dcl', 'broadleaf deciduous', 'asv', 'abundant compounds', '5 %),', '142 factors', 'hg domains', 'taxonomic distribution', 'log sample', 'bark inclusion', 'scavenging activity', 'higher abundance', 'derived fractions', 'arabinans could', '93 factors', 'investigated eos', '– v', 'one hand', 'one components', 'affect one', 'ones mentioned', 'lower level', 'three samples', 'three gram', 'significant difference', 'significant change', 'higher tpc', 'pinene percentages', 'branched rg', 'antioxidant activity', 'taxonomic pattern', 'linear polysaccharides', 'extractable polysaccharides', 'total number', 'sample p0', 'sample collection', 'high proportion', 'see tables', 'reveal correlations', 'prominent increase', 'pinaceae eos', 'molecular structure', 'liquid phase', 'linked residues', 'gradually increasing', 'glycosidic linkages', 'extraction method', 'enantiomerically pure', 'duplicate factors', 'dcls iii', 'abrupt increase', '49 factors', '34 factors', '100 %)', '(−)- α', 'seventeen asvs', 'core asvs', 'asvs annotated', '40 asvs', 'uronic acid', 'sulfonic acid', 'results showed', 'read proportion', 'racemic composition', 'carbohydrate composition', 'bark pectins', 'six fractions', 'primary causes', 'potential antioxidant', 'main effects', 'macromolecular architecture', 'lowest percentages', 'lignin concentration', 'fractions occupied', 'extracellular vs', 'experimental variants', 'elution times', 'could originate', '79 mg', 'higher number', 'comparable sizes', 'ttc compared', 'compared values', 'arabinan domains', 'dp observed', 'age must', 'lowest tpc', 'ms analysis', 'highest percentages', 'high number', 'whole experiment', 'weather conditions', 'weak', 'water supply', 'two', 'target ecosystem', 'spectrophotometric determination', 'soil saturation', 'sharp bends', 'sedimentary sequence', 'rootstock union', 'response curves', 'phenolic compounds', 'particular attention', 'parent p0', 'paleoecological record', 'local point', 'lion tailing', 'likely miss', 'latter point', 'growing season', 'gravitational loading', 'explain', 'exact abundances', 'even stronger', 'et al', 'e .,', 'diammonium salt', 'deferred incompatibility', 'deeper level', 'decreasing vigour', 'data show', 'colored radicals', 'climate zones', 'climate zone', 'climate regions', 'basal section', 'annual shoots', 'annual needles', 'among', 'absolute weight', '9 relate', '(−) form', 'highest tpc', 'often used', 'larger abundance', '52 mg', 'small number', 'low number', 'time effect', 'highest amounts', 'studied properties', 'studied microhabitats', 'either rg', 'control plants', 'control contrary', 'together', 'failure', 'reported', 'vast majority', 'vapor phase', 'twenty components', 'tannin content', 'mostly composed', 'lignin concentrations', 'grown disproportionally', 'frequencies', 'drought resulting', '8', '6 %),', '4', '12 relate', 'p4', 'stem', 'roots', 'tree', 'studies', 'ver', 'study', 'months', 'logs', 'identified', 'height', 'diameter', 'deciduous', 'dcls', 'coniferous', '5', 'bark', 'total', 'investigated', 'compared', 'one', 'uae', 'mentioned', '2', 'three', 'significant', 'variant', 'persistence', 'although', '3', 'groups', 'analysis', 'α', 'wind', 'information', 'fraction', 'factors', 'correlations', 'cellulose', 'associated', 'achieved', 'asvs', 'results', 'proportion', 'detected', 'composition', 'acid', 'used', 'pinene', 'percentages', 'md', 'fractions', 'decay', 'concentration', 'abundance', '93', '1', 'domains', 'observed', 'log', 'effect', 'distribution', 'age', 'tpc', 'high', 'weight', 'variation', 'us', 'sec', 'search', 'p3', 'low', 'intra', 'included', 'graft', 'gc', 'fungi', 'eos', 'decreasing', 'decapitation', 'dbh', 'causes', 'branches', 'annotated', '0', 'number', 'highest', 'studied', 'rg', 'control', 'comparable', 'vs', 'vapor', 'values', 'v', 'twenty', 'ttc', 'time', 'see', 'pectins', 'often', 'occur', 'ms', 'majority', 'larger', 'iii', 'grown', 'g', 'factor', 'drought', 'content', 'concentrations', 'composed', '6', '52', '12', 'β', 'xylans', 'variations', 'variability', 'unbalance', 'triangle', 'therefore', 'taken', 'sum', 'suggested', 'steady', 'statistics', 'snow', 'sládková', 'slow', 'slenderness', 'single', 'similarly', 'signal', 'shortage', 'shifts', 'sequences', 'selected', 'scale', 'rockfall', 'respectively', 'represented', 'refer', 'recorded', 'reaction', 'range', 'r', 'quantified', 'propose', 'presented', 'present', 'presence', 'precipitation', 'plotted', 'pinenes', 'picrylhydrazyl', 'paid', 'negative', 'nature', 'n', 'mt', 'monitored', 'middle', 'microhabitat', 'methylation', 'meta', 'may', 'mannans', 'malls', 'mainly', 'mae', 'located', 'living', 'line', 'least', 'larix', 'l', 'interpreted', 'integration', 'individuals', 'indicated', 'incidences', 'implying', 'illustrate', 'ii', 'ice', 'however', 'headspace', 'given', 'gams', 'gala', 'furthermore', 'frequency', 'found', 'follows', 'followed', 'follow', 'focus', 'fitted', 'fact', 'extrapolation', 'expected', 'executed', 'example', 'evaluated', 'ethylbenzothiazoline', 'estimated', 'established', 'er', 'enable', 'employed', 'elimination', 'dynamics', 'dpph', 'diphenyl', 'determined', 'determine', 'detect', 'described', 'dependencies', 'demonstrated', 'decline', 'decisive', 'cracks', 'coșarcă', 'counted', 'considering', 'consequently', 'conducted', 'concerning', 'compositions', 'comparison', 'combination', 'close', 'chironomid', 'changes', 'caution', 'categorized', 'case', 'carried', 'ca', 'broad', 'based', 'bacteriomes', 'assigned', 'approach', 'appearance', 'apart', 'analyzing', 'analyzed', 'analysed', 'amylase', 'amplified', 'air', 'affected', 'addition', 'abts', '86', '65', '51', '50', '44', '43', '35', '31', '30', '24', '20', '19', '16', '11']\n"
     ]
    }
   ],
   "source": [
    "import pathlib\n",
    "text = pathlib.Path(\"results_glob.txt\").read_text(encoding='utf-8')\n",
    "import pke\n",
    "from rake_nltk import Rake\n",
    "r = Rake()\n",
    "r.extract_keywords_from_text(text)\n",
    "print(r.get_ranked_phrases())"
   ]
  },
  {
   "cell_type": "code",
   "execution_count": 36,
   "id": "5e741255-883f-4c43-b0dc-82b2ced2ae29",
   "metadata": {},
   "outputs": [],
   "source": [
    "import os\n",
    "HITS_2 = 20\n",
    "OUTPUT_2 = 'results_2'\n",
    "TERMS = os.path.join(WORKING_DIRECTORY, 'terms.txt')\n"
   ]
  },
  {
   "cell_type": "code",
   "execution_count": 37,
   "id": "11aa5526-638d-45ce-a334-0a8be0d96beb",
   "metadata": {},
   "outputs": [
    {
     "data": {
      "text/plain": [
       "1"
      ]
     },
     "execution_count": 37,
     "metadata": {},
     "output_type": "execute_result"
    }
   ],
   "source": [
    "os.system(f\"pygetpapers --terms {TERMS} -k {HITS_2} -o {OUTPUT_2} -x\")"
   ]
  },
  {
   "cell_type": "code",
   "execution_count": 18,
   "id": "4fb19ce0-d39b-4c49-a689-d582915e9dba",
   "metadata": {},
   "outputs": [],
   "source": [
    "with open(\"terms.txt\",\"w\", encoding='utf-8') as f:\n",
    "    f.write(str(r.get_ranked_phrases()))"
   ]
  }
 ],
 "metadata": {
  "kernelspec": {
   "display_name": "Python 3",
   "language": "python",
   "name": "python3"
  },
  "language_info": {
   "codemirror_mode": {
    "name": "ipython",
    "version": 3
   },
   "file_extension": ".py",
   "mimetype": "text/x-python",
   "name": "python",
   "nbconvert_exporter": "python",
   "pygments_lexer": "ipython3",
   "version": "3.8.10"
  }
 },
 "nbformat": 4,
 "nbformat_minor": 5
}
