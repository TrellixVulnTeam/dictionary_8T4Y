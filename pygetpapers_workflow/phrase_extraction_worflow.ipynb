{
 "cells": [
  {
   "cell_type": "code",
   "execution_count": 24,
   "id": "8dc4ba86-af5e-44bc-9131-2f0ffdb683e6",
   "metadata": {},
   "outputs": [],
   "source": [
    "QUERY = \"climate change\" \n",
    "HITS = 20\n",
    "OUTPUT = \"climate_change_20\""
   ]
  },
  {
   "cell_type": "code",
   "execution_count": 29,
   "id": "12654033-ce79-4421-89d5-c873c4dd6e03",
   "metadata": {},
   "outputs": [
    {
     "name": "stderr",
     "output_type": "stream",
     "text": [
      "\u001b[1;30mINFO:\u001b[0m Final query is climate change\n",
      "\u001b[1;30mINFO:\u001b[0m Total Hits are 199276\n",
      "\n",
      "0it [00:00, ?it/s]\u001b[1;30mWARNING:\u001b[0m \u001b[33mAuthor list not found for paper 3\u001b[0m\n",
      "\u001b[1;30mWARNING:\u001b[0m \u001b[33mKeywords not found for paper 4\u001b[0m\n",
      "\u001b[1;30mWARNING:\u001b[0m \u001b[33mKeywords not found for paper 5\u001b[0m\n",
      "\u001b[1;30mWARNING:\u001b[0m \u001b[33mAbstract not found for paper 7\u001b[0m\n",
      "\u001b[1;30mWARNING:\u001b[0m \u001b[33mKeywords not found for paper 7\u001b[0m\n",
      "\u001b[1;30mWARNING:\u001b[0m \u001b[33mhtml url not found for paper 9\u001b[0m\n",
      "\u001b[1;30mWARNING:\u001b[0m \u001b[33mAbstract not found for paper 9\u001b[0m\n",
      "\u001b[1;30mWARNING:\u001b[0m \u001b[33mKeywords not found for paper 9\u001b[0m\n",
      "\u001b[1;30mWARNING:\u001b[0m \u001b[33mpdf url not found for paper 9\u001b[0m\n",
      "\u001b[1;30mWARNING:\u001b[0m \u001b[33mhtml url not found for paper 10\u001b[0m\n",
      "\u001b[1;30mWARNING:\u001b[0m \u001b[33mpdf url not found for paper 10\u001b[0m\n",
      "\u001b[1;30mWARNING:\u001b[0m \u001b[33mAbstract not found for paper 11\u001b[0m\n",
      "\u001b[1;30mWARNING:\u001b[0m \u001b[33mKeywords not found for paper 11\u001b[0m\n",
      "\u001b[1;30mWARNING:\u001b[0m \u001b[33mAuthor list not found for paper 11\u001b[0m\n",
      "\u001b[1;30mWARNING:\u001b[0m \u001b[33mKeywords not found for paper 12\u001b[0m\n",
      "\u001b[1;30mWARNING:\u001b[0m \u001b[33mhtml url not found for paper 14\u001b[0m\n",
      "\u001b[1;30mWARNING:\u001b[0m \u001b[33mpdf url not found for paper 14\u001b[0m\n",
      "\u001b[1;30mWARNING:\u001b[0m \u001b[33mKeywords not found for paper 15\u001b[0m\n",
      "\u001b[1;30mWARNING:\u001b[0m \u001b[33mhtml url not found for paper 16\u001b[0m\n",
      "\u001b[1;30mWARNING:\u001b[0m \u001b[33mpdf url not found for paper 16\u001b[0m\n",
      "\u001b[1;30mWARNING:\u001b[0m \u001b[33mKeywords not found for paper 19\u001b[0m\n",
      "\u001b[1;30mWARNING:\u001b[0m \u001b[33mhtml url not found for paper 20\u001b[0m\n",
      "\u001b[1;30mWARNING:\u001b[0m \u001b[33mKeywords not found for paper 20\u001b[0m\n",
      "\u001b[1;30mWARNING:\u001b[0m \u001b[33mpdf url not found for paper 20\u001b[0m\n",
      "\n",
      "1it [00:00, 120.64it/s]\n",
      "\u001b[1;30mINFO:\u001b[0m Saving XML files to C:\\Users\\shweata\\dictionary\\pygetpapers_workflow\\climate_change_20\\*\\fulltext.xml\n",
      "\n",
      "  0%|          | 0/20 [00:00<?, ?it/s]\n",
      "  5%|5         | 1/20 [00:02<00:40,  2.11s/it]\n",
      " 10%|#         | 2/20 [00:05<00:46,  2.60s/it]\n",
      " 15%|#5        | 3/20 [00:07<00:43,  2.55s/it]\n",
      " 20%|##        | 4/20 [00:09<00:39,  2.49s/it]\n",
      " 25%|##5       | 5/20 [00:12<00:35,  2.38s/it]\n",
      " 30%|###       | 6/20 [00:14<00:31,  2.27s/it]\n",
      " 35%|###5      | 7/20 [00:15<00:27,  2.09s/it]\n",
      " 40%|####      | 8/20 [00:19<00:29,  2.49s/it]\n",
      " 45%|####5     | 9/20 [00:20<00:22,  2.05s/it]\n",
      " 50%|#####     | 10/20 [00:22<00:20,  2.08s/it]\n",
      " 55%|#####5    | 11/20 [00:23<00:16,  1.86s/it]\n",
      " 60%|######    | 12/20 [00:24<00:12,  1.56s/it]\n",
      " 65%|######5   | 13/20 [00:28<00:15,  2.18s/it]\n",
      " 70%|#######   | 14/20 [00:29<00:10,  1.83s/it]\n",
      " 75%|#######5  | 15/20 [00:31<00:09,  1.83s/it]\n",
      " 80%|########  | 16/20 [00:35<00:10,  2.52s/it]\n",
      " 85%|########5 | 17/20 [00:40<00:10,  3.40s/it]\n",
      " 90%|######### | 18/20 [00:45<00:07,  3.67s/it]\n",
      " 95%|#########5| 19/20 [00:47<00:03,  3.26s/it]\n",
      "100%|##########| 20/20 [00:48<00:00,  2.55s/it]\n",
      "100%|##########| 20/20 [00:48<00:00,  2.41s/it]\n"
     ]
    }
   ],
   "source": [
    "!pygetpapers -q \"$QUERY\" -k $HITS -o $OUTPUT -x"
   ]
  },
  {
   "cell_type": "code",
   "execution_count": 30,
   "id": "cd3cae45-33da-4b84-8694-1e0b81eff0cc",
   "metadata": {},
   "outputs": [
    {
     "name": "stderr",
     "output_type": "stream",
     "text": [
      "\n",
      "Generic values (AMISectionTool)\n",
      "================================\n",
      "\n",
      "Specific values (AMISectionTool)\n",
      "================================\n",
      "AMISectionTool cTree: PMC7611104\n",
      "[Fatal Error] :-1:-1: Premature end of file.\n",
      "Cannot read article, SKIPPING Cannot parse XML\n",
      "ERROR, skipped: cannot list files in climate_change_20\\PMC7611104\\sections\n",
      "AMISectionTool cTree: PMC8079051\n",
      "no class for: article-version\n",
      "Unknown JATS Span article-version\n",
      "no class for: postal-code\n",
      "Unknown JATS Span postal-code\n",
      "untagged element: span\n",
      "AMISectionTool cTree: PMC8084208\n",
      "AMISectionTool cTree: PMC8111332\n",
      "AMISectionTool cTree: PMC8119963\n",
      "AMISectionTool cTree: PMC8122118\n",
      "[Fatal Error] :-1:-1: Premature end of file.\n",
      "Cannot read article, SKIPPING Cannot parse XML\n",
      "ERROR, skipped: cannot list files in climate_change_20\\PMC8122118\\sections\n",
      "AMISectionTool cTree: PMC8122895\n",
      "AMISectionTool cTree: PMC8136666\n",
      "AMISectionTool cTree: PMC8150874\n",
      "AMISectionTool cTree: PMC8161384\n",
      "AMISectionTool cTree: PMC8164958\n",
      "AMISectionTool cTree: PMC8191619\n",
      "AMISectionTool cTree: PMC8191974\n",
      "AMISectionTool cTree: PMC8202625\n",
      "[Fatal Error] :-1:-1: Premature end of file.\n",
      "Cannot read article, SKIPPING Cannot parse XML\n",
      "ERROR, skipped: cannot list files in climate_change_20\\PMC8202625\\sections\n",
      "AMISectionTool cTree: PMC8250596\n",
      "AMISectionTool cTree: PMC8254914\n",
      "AMISectionTool cTree: PMC8265714\n",
      "AMISectionTool cTree: PMC8271301\n",
      "AMISectionTool cTree: PMC8277792\n",
      "AMISectionTool cTree: PMC8279500\n"
     ]
    }
   ],
   "source": [
    "!ami -p $OUTPUT section"
   ]
  },
  {
   "cell_type": "code",
   "execution_count": 31,
   "id": "e3a764cb-64e8-4107-9714-e932ffd06f35",
   "metadata": {},
   "outputs": [],
   "source": [
    "import os\n",
    "import glob\n",
    "WORKING_DIRECTORY = os.getcwd()\n",
    "glob_results = glob.glob(os.path.join(WORKING_DIRECTORY,OUTPUT,\"*\", \"sections\", \"*body\", \"*results*\",\"**\", \"*_p.xml\"), recursive = True)"
   ]
  },
  {
   "cell_type": "code",
   "execution_count": 32,
   "id": "ff3ad521-38a0-4630-ae66-d62b3533d256",
   "metadata": {},
   "outputs": [],
   "source": [
    "import xml.etree.ElementTree as ET\n",
    "file1 = open(\"results_glob.txt\",\"w+\", encoding='utf-8')\n",
    "for result in glob_results:\n",
    "    tree = ET.parse(result)\n",
    "    root = tree.getroot()\n",
    "    for para in root.iter('p'):\n",
    "        #file1.write('para.text')\n",
    "        print (para.text, file = file1)"
   ]
  },
  {
   "cell_type": "code",
   "execution_count": 33,
   "id": "a8ae4479-0427-40d8-8218-713e9a69abf8",
   "metadata": {},
   "outputs": [
    {
     "data": {
      "text/plain": [
       "['climate change',\n",
       " 'Lyme disease',\n",
       " 'mental health',\n",
       " 'mental health outcomes',\n",
       " 'climate',\n",
       " 'health outcomes',\n",
       " 'health',\n",
       " 'mental health impacts',\n",
       " 'change',\n",
       " 'climate concern groups',\n",
       " 'Ganges basin',\n",
       " 'Lyme',\n",
       " 'people',\n",
       " 'Krishna basin',\n",
       " 'studies',\n",
       " 'climate change impacts',\n",
       " 'outcomes',\n",
       " 'basin',\n",
       " 'Tapti basin',\n",
       " 'mental']"
      ]
     },
     "execution_count": 33,
     "metadata": {},
     "output_type": "execute_result"
    }
   ],
   "source": [
    "import pathlib\n",
    "text = pathlib.Path(\"results_glob.txt\").read_text(encoding='utf-8')\n",
    "import yake\n",
    "\n",
    "kw_extractor = yake.KeywordExtractor()\n",
    "keywords = kw_extractor.extract_keywords(text)\n",
    "keywords_list = []\n",
    "for kw in keywords:\n",
    "\tkeywords_list.append(kw[0])\n",
    "'''   \n",
    "keyword_list = []\n",
    "for keyword in keywords_list_with_scores:\n",
    "    first_tuple_elements.append(a_tuple[0])\n",
    "'''\n",
    "keywords_list"
   ]
  },
  {
   "cell_type": "code",
   "execution_count": 34,
   "id": "5e741255-883f-4c43-b0dc-82b2ced2ae29",
   "metadata": {},
   "outputs": [],
   "source": [
    "import os\n",
    "HITS_2 = 20\n",
    "OUTPUT_2 = 'results_2'\n",
    "TERMS = os.path.join(WORKING_DIRECTORY, 'terms.txt')\n"
   ]
  },
  {
   "cell_type": "code",
   "execution_count": 35,
   "id": "4fb19ce0-d39b-4c49-a689-d582915e9dba",
   "metadata": {},
   "outputs": [],
   "source": [
    "keywords_list_string = ', '.join(str(i) for i in keywords_list)\n",
    "with open('terms.txt', 'w') as fo:\n",
    "    fo.write(keywords_list_string)"
   ]
  },
  {
   "cell_type": "code",
   "execution_count": 38,
   "id": "809630a9-9f3b-4295-9aff-408a556f547a",
   "metadata": {},
   "outputs": [
    {
     "name": "stderr",
     "output_type": "stream",
     "text": [
      "\u001b[1;30mINFO:\u001b[0m Final query is (climate change OR  Lyme disease OR  mental health OR  mental health outcomes OR  climate OR  health outcomes OR  health OR  mental health impacts OR  change OR  climate concern groups OR  Ganges basin OR  Lyme OR  people OR  Krishna basin OR  studies OR  climate change impacts OR  outcomes OR  basin OR  Tapti basin OR  mental)\n",
      "\u001b[1;30mINFO:\u001b[0m Total Hits are 28570\n",
      "\n",
      "0it [00:00, ?it/s]\u001b[1;30mWARNING:\u001b[0m \u001b[33mhtml url not found for paper 2\u001b[0m\n",
      "\u001b[1;30mWARNING:\u001b[0m \u001b[33mpdf url not found for paper 2\u001b[0m\n",
      "\u001b[1;30mWARNING:\u001b[0m \u001b[33mKeywords not found for paper 4\u001b[0m\n",
      "\u001b[1;30mWARNING:\u001b[0m \u001b[33mAuthor list not found for paper 6\u001b[0m\n",
      "\n",
      "1it [00:00, ?it/s]\n",
      "\u001b[1;30mINFO:\u001b[0m Saving XML files to C:\\Users\\shweata\\dictionary\\pygetpapers_workflow\\results_2\\*\\fulltext.xml\n",
      "\n",
      "  0%|          | 0/10 [00:00<?, ?it/s]\n",
      " 10%|#         | 1/10 [00:03<00:31,  3.48s/it]\n",
      " 20%|##        | 2/10 [00:05<00:21,  2.74s/it]\n",
      " 30%|###       | 3/10 [00:08<00:18,  2.61s/it]\n",
      " 40%|####      | 4/10 [00:10<00:15,  2.55s/it]\n",
      " 50%|#####     | 5/10 [00:15<00:17,  3.43s/it]\n",
      " 60%|######    | 6/10 [00:17<00:11,  2.90s/it]\n",
      " 70%|#######   | 7/10 [00:19<00:08,  2.75s/it]\n",
      " 80%|########  | 8/10 [00:24<00:06,  3.44s/it]\n",
      " 90%|######### | 9/10 [00:28<00:03,  3.40s/it]\n",
      "100%|##########| 10/10 [00:31<00:00,  3.45s/it]\n",
      "100%|##########| 10/10 [00:31<00:00,  3.17s/it]\n"
     ]
    }
   ],
   "source": [
    "!pygetpapers --terms $TERMS -k 10 -x -o $OUTPUT_2"
   ]
  }
 ],
 "metadata": {
  "kernelspec": {
   "display_name": "Python 3",
   "language": "python",
   "name": "python3"
  },
  "language_info": {
   "codemirror_mode": {
    "name": "ipython",
    "version": 3
   },
   "file_extension": ".py",
   "mimetype": "text/x-python",
   "name": "python",
   "nbconvert_exporter": "python",
   "pygments_lexer": "ipython3",
   "version": "3.8.10"
  }
 },
 "nbformat": 4,
 "nbformat_minor": 5
}
