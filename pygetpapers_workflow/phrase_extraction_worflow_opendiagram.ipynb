{
 "cells": [
  {
   "cell_type": "code",
   "execution_count": 26,
   "id": "8dc4ba86-af5e-44bc-9131-2f0ffdb683e6",
   "metadata": {},
   "outputs": [],
   "source": [
    "QUERY = \"(electrochemistry) AND batteries\" \n",
    "HITS = 20\n",
    "OUTPUT = \"cyclic_voltammetry_20210823\""
   ]
  },
  {
   "cell_type": "markdown",
   "id": "ed5aa2f4-c63f-4638-a9c4-abfb823269e8",
   "metadata": {},
   "source": [
    "Querying for `QUERY` (defined above) EPMC using `pygetpapers`"
   ]
  },
  {
   "cell_type": "code",
   "execution_count": 18,
   "id": "12654033-ce79-4421-89d5-c873c4dd6e03",
   "metadata": {},
   "outputs": [
    {
     "name": "stderr",
     "output_type": "stream",
     "text": [
      "\u001b[1;30mINFO:\u001b[0m Final query is (electrochemistry) AND batteries\n",
      "\u001b[1;30mINFO:\u001b[0m Total Hits are 3033\n",
      "\n",
      "0it [00:00, ?it/s]\u001b[1;30mWARNING:\u001b[0m \u001b[33mhtml url not found for paper 2\u001b[0m\n",
      "\u001b[1;30mWARNING:\u001b[0m \u001b[33mKeywords not found for paper 2\u001b[0m\n",
      "\u001b[1;30mWARNING:\u001b[0m \u001b[33mpdf url not found for paper 2\u001b[0m\n",
      "\u001b[1;30mWARNING:\u001b[0m \u001b[33mAbstract not found for paper 3\u001b[0m\n",
      "\u001b[1;30mWARNING:\u001b[0m \u001b[33mKeywords not found for paper 4\u001b[0m\n",
      "\u001b[1;30mWARNING:\u001b[0m \u001b[33mKeywords not found for paper 5\u001b[0m\n",
      "\u001b[1;30mWARNING:\u001b[0m \u001b[33mKeywords not found for paper 7\u001b[0m\n",
      "\u001b[1;30mWARNING:\u001b[0m \u001b[33mKeywords not found for paper 11\u001b[0m\n",
      "\u001b[1;30mWARNING:\u001b[0m \u001b[33mKeywords not found for paper 12\u001b[0m\n",
      "\u001b[1;30mWARNING:\u001b[0m \u001b[33mKeywords not found for paper 14\u001b[0m\n",
      "\u001b[1;30mWARNING:\u001b[0m \u001b[33mAbstract not found for paper 16\u001b[0m\n",
      "\u001b[1;30mWARNING:\u001b[0m \u001b[33mKeywords not found for paper 17\u001b[0m\n",
      "\u001b[1;30mWARNING:\u001b[0m \u001b[33mKeywords not found for paper 18\u001b[0m\n",
      "\u001b[1;30mWARNING:\u001b[0m \u001b[33mKeywords not found for paper 20\u001b[0m\n",
      "\n",
      "1it [00:00, 252.12it/s]\n",
      "\u001b[1;30mINFO:\u001b[0m Saving XML files to C:\\Users\\shweata\\dictionary\\pygetpapers_workflow\\electrochemistry_20210823\\*\\fulltext.xml\n",
      "\n",
      "  0%|          | 0/20 [00:00<?, ?it/s]\n",
      "  5%|5         | 1/20 [00:01<00:35,  1.89s/it]\n",
      " 10%|#         | 2/20 [00:02<00:25,  1.42s/it]\n",
      " 15%|#5        | 3/20 [00:04<00:21,  1.28s/it]\n",
      " 20%|##        | 4/20 [00:06<00:26,  1.68s/it]\n",
      " 25%|##5       | 5/20 [00:09<00:33,  2.27s/it]\n",
      " 30%|###       | 6/20 [00:12<00:32,  2.35s/it]\n",
      " 35%|###5      | 7/20 [00:14<00:29,  2.24s/it]\n",
      " 40%|####      | 8/20 [00:16<00:27,  2.31s/it]\n",
      " 45%|####5     | 9/20 [00:19<00:25,  2.36s/it]\n",
      " 50%|#####     | 10/20 [00:21<00:22,  2.27s/it]\n",
      " 55%|#####5    | 11/20 [00:23<00:20,  2.24s/it]\n",
      " 60%|######    | 12/20 [00:25<00:17,  2.20s/it]\n",
      " 65%|######5   | 13/20 [00:28<00:16,  2.38s/it]\n",
      " 70%|#######   | 14/20 [00:30<00:13,  2.28s/it]\n",
      " 75%|#######5  | 15/20 [00:32<00:11,  2.20s/it]\n",
      " 80%|########  | 16/20 [00:33<00:07,  1.89s/it]\n",
      " 85%|########5 | 17/20 [00:34<00:04,  1.66s/it]\n",
      " 90%|######### | 18/20 [00:37<00:04,  2.05s/it]\n",
      " 95%|#########5| 19/20 [00:40<00:02,  2.26s/it]\n",
      "100%|##########| 20/20 [00:42<00:00,  2.21s/it]\n",
      "100%|##########| 20/20 [00:42<00:00,  2.12s/it]\n"
     ]
    }
   ],
   "source": [
    "!pygetpapers -q \"$QUERY\" -k $HITS -o $OUTPUT -x"
   ]
  },
  {
   "cell_type": "code",
   "execution_count": 19,
   "id": "cd3cae45-33da-4b84-8694-1e0b81eff0cc",
   "metadata": {},
   "outputs": [
    {
     "name": "stderr",
     "output_type": "stream",
     "text": [
      "\n",
      "Generic values (AMISectionTool)\n",
      "================================\n",
      "\n",
      "Specific values (AMISectionTool)\n",
      "================================\n",
      "AMISectionTool cTree: PMC7505775\n",
      "AMISectionTool cTree: PMC7648074\n",
      "AMISectionTool cTree: PMC7658997\n",
      "AMISectionTool cTree: PMC7726348\n",
      "AMISectionTool cTree: PMC7814146\n",
      "AMISectionTool cTree: PMC7940408\n",
      "AMISectionTool cTree: PMC7970484\n",
      "AMISectionTool cTree: PMC8006207\n",
      "AMISectionTool cTree: PMC8024995\n",
      "[Fatal Error] :-1:-1: Premature end of file.\n",
      "Cannot read article, SKIPPING Cannot parse XML\n",
      "ERROR, skipped: cannot list files in electrochemistry_20210823\\PMC8024995\\sections\n",
      "AMISectionTool cTree: PMC8025003\n",
      "no class for: postal-code\n",
      "Unknown JATS Span postal-code\n",
      "no class for: postal-code\n",
      "Unknown JATS Span postal-code\n",
      "no class for: postal-code\n",
      "Unknown JATS Span postal-code\n",
      "no class for: postal-code\n",
      "Unknown JATS Span postal-code\n",
      "no class for: postal-code\n",
      "Unknown JATS Span postal-code\n",
      "AMISectionTool cTree: PMC8029652\n",
      "AMISectionTool cTree: PMC8050716\n",
      "AMISectionTool cTree: PMC8131986\n",
      "AMISectionTool cTree: PMC8179661\n",
      "no class for: postal-code\n",
      "Unknown JATS Span postal-code\n",
      "no class for: postal-code\n",
      "Unknown JATS Span postal-code\n",
      "no class for: postal-code\n",
      "Unknown JATS Span postal-code\n",
      "AMISectionTool cTree: PMC8181144\n",
      "AMISectionTool cTree: PMC8209233\n",
      "AMISectionTool cTree: PMC8228317\n",
      "AMISectionTool cTree: PMC8246276\n",
      "no class for: postal-code\n",
      "Unknown JATS Span postal-code\n",
      "AMISectionTool cTree: PMC8263741\n",
      "AMISectionTool cTree: PMC8348188\n"
     ]
    }
   ],
   "source": [
    "!ami -p $OUTPUT section"
   ]
  },
  {
   "cell_type": "code",
   "execution_count": 43,
   "id": "e3a764cb-64e8-4107-9714-e932ffd06f35",
   "metadata": {},
   "outputs": [
    {
     "data": {
      "text/plain": [
       "['C:\\\\Users\\\\shweata\\\\dictionary\\\\pygetpapers_workflow\\\\cyclic_voltammetry_refined_20210823\\\\PMC7940408\\\\sections\\\\1_body\\\\3_materials_and_methods\\\\10_scanning_electron_microsc\\\\1_p.xml',\n",
       " 'C:\\\\Users\\\\shweata\\\\dictionary\\\\pygetpapers_workflow\\\\cyclic_voltammetry_refined_20210823\\\\PMC7940408\\\\sections\\\\1_body\\\\3_materials_and_methods\\\\1_solid_electrolytes\\\\1_p.xml',\n",
       " 'C:\\\\Users\\\\shweata\\\\dictionary\\\\pygetpapers_workflow\\\\cyclic_voltammetry_refined_20210823\\\\PMC7940408\\\\sections\\\\1_body\\\\3_materials_and_methods\\\\2_surface_coating\\\\1_p.xml',\n",
       " 'C:\\\\Users\\\\shweata\\\\dictionary\\\\pygetpapers_workflow\\\\cyclic_voltammetry_refined_20210823\\\\PMC7940408\\\\sections\\\\1_body\\\\3_materials_and_methods\\\\3_preparation_of_electrode_\\\\1_p.xml',\n",
       " 'C:\\\\Users\\\\shweata\\\\dictionary\\\\pygetpapers_workflow\\\\cyclic_voltammetry_refined_20210823\\\\PMC7940408\\\\sections\\\\1_body\\\\3_materials_and_methods\\\\4_cell_assembly_and_electro\\\\1_p.xml',\n",
       " 'C:\\\\Users\\\\shweata\\\\dictionary\\\\pygetpapers_workflow\\\\cyclic_voltammetry_refined_20210823\\\\PMC7940408\\\\sections\\\\1_body\\\\3_materials_and_methods\\\\5_attenuated_total_reflecti\\\\1_p.xml',\n",
       " 'C:\\\\Users\\\\shweata\\\\dictionary\\\\pygetpapers_workflow\\\\cyclic_voltammetry_refined_20210823\\\\PMC7940408\\\\sections\\\\1_body\\\\3_materials_and_methods\\\\6_x_ray_diffraction__xrd_\\\\1_p.xml',\n",
       " 'C:\\\\Users\\\\shweata\\\\dictionary\\\\pygetpapers_workflow\\\\cyclic_voltammetry_refined_20210823\\\\PMC7940408\\\\sections\\\\1_body\\\\3_materials_and_methods\\\\7_acid_titration_measuremen\\\\1_p.xml',\n",
       " 'C:\\\\Users\\\\shweata\\\\dictionary\\\\pygetpapers_workflow\\\\cyclic_voltammetry_refined_20210823\\\\PMC7940408\\\\sections\\\\1_body\\\\3_materials_and_methods\\\\8_inductively_coupled_plasm\\\\1_p.xml',\n",
       " 'C:\\\\Users\\\\shweata\\\\dictionary\\\\pygetpapers_workflow\\\\cyclic_voltammetry_refined_20210823\\\\PMC7940408\\\\sections\\\\1_body\\\\3_materials_and_methods\\\\9_transmission_electron_mic\\\\1_p.xml',\n",
       " 'C:\\\\Users\\\\shweata\\\\dictionary\\\\pygetpapers_workflow\\\\cyclic_voltammetry_refined_20210823\\\\PMC8209233\\\\sections\\\\1_body\\\\1_method_of_simulation\\\\1_p.xml',\n",
       " 'C:\\\\Users\\\\shweata\\\\dictionary\\\\pygetpapers_workflow\\\\cyclic_voltammetry_refined_20210823\\\\PMC8209233\\\\sections\\\\1_body\\\\1_method_of_simulation\\\\2_p.xml',\n",
       " 'C:\\\\Users\\\\shweata\\\\dictionary\\\\pygetpapers_workflow\\\\cyclic_voltammetry_refined_20210823\\\\PMC8209233\\\\sections\\\\1_body\\\\1_method_of_simulation\\\\3_p.xml',\n",
       " 'C:\\\\Users\\\\shweata\\\\dictionary\\\\pygetpapers_workflow\\\\cyclic_voltammetry_refined_20210823\\\\PMC8209233\\\\sections\\\\1_body\\\\1_method_of_simulation\\\\4_p.xml',\n",
       " 'C:\\\\Users\\\\shweata\\\\dictionary\\\\pygetpapers_workflow\\\\cyclic_voltammetry_refined_20210823\\\\PMC8209233\\\\sections\\\\1_body\\\\1_method_of_simulation\\\\5_p.xml',\n",
       " 'C:\\\\Users\\\\shweata\\\\dictionary\\\\pygetpapers_workflow\\\\cyclic_voltammetry_refined_20210823\\\\PMC8263741\\\\sections\\\\1_body\\\\3_materials_methods\\\\1_p.xml',\n",
       " 'C:\\\\Users\\\\shweata\\\\dictionary\\\\pygetpapers_workflow\\\\cyclic_voltammetry_refined_20210823\\\\PMC8263741\\\\sections\\\\1_body\\\\3_materials_methods\\\\2_p.xml',\n",
       " 'C:\\\\Users\\\\shweata\\\\dictionary\\\\pygetpapers_workflow\\\\cyclic_voltammetry_refined_20210823\\\\PMC8263741\\\\sections\\\\1_body\\\\3_materials_methods\\\\3_p.xml',\n",
       " 'C:\\\\Users\\\\shweata\\\\dictionary\\\\pygetpapers_workflow\\\\cyclic_voltammetry_refined_20210823\\\\PMC8263741\\\\sections\\\\1_body\\\\3_materials_methods\\\\4_p.xml',\n",
       " 'C:\\\\Users\\\\shweata\\\\dictionary\\\\pygetpapers_workflow\\\\cyclic_voltammetry_refined_20210823\\\\PMC8263741\\\\sections\\\\1_body\\\\3_materials_methods\\\\5_p.xml',\n",
       " 'C:\\\\Users\\\\shweata\\\\dictionary\\\\pygetpapers_workflow\\\\cyclic_voltammetry_refined_20210823\\\\PMC8263741\\\\sections\\\\1_body\\\\3_materials_methods\\\\6_p.xml',\n",
       " 'C:\\\\Users\\\\shweata\\\\dictionary\\\\pygetpapers_workflow\\\\cyclic_voltammetry_refined_20210823\\\\PMC8263741\\\\sections\\\\1_body\\\\3_materials_methods\\\\7_p.xml',\n",
       " 'C:\\\\Users\\\\shweata\\\\dictionary\\\\pygetpapers_workflow\\\\cyclic_voltammetry_refined_20210823\\\\PMC8348188\\\\sections\\\\1_body\\\\1_2__material_and_methods\\\\1_2_1__synthesis_and_phase_\\\\1_p.xml',\n",
       " 'C:\\\\Users\\\\shweata\\\\dictionary\\\\pygetpapers_workflow\\\\cyclic_voltammetry_refined_20210823\\\\PMC8348188\\\\sections\\\\1_body\\\\1_2__material_and_methods\\\\2_2_2__structure_refinement\\\\1_p.xml',\n",
       " 'C:\\\\Users\\\\shweata\\\\dictionary\\\\pygetpapers_workflow\\\\cyclic_voltammetry_refined_20210823\\\\PMC8348188\\\\sections\\\\1_body\\\\1_2__material_and_methods\\\\2_2_2__structure_refinement\\\\2_p.xml',\n",
       " 'C:\\\\Users\\\\shweata\\\\dictionary\\\\pygetpapers_workflow\\\\cyclic_voltammetry_refined_20210823\\\\PMC8348188\\\\sections\\\\1_body\\\\1_2__material_and_methods\\\\3_2_3__electrochemical_inve\\\\1_p.xml',\n",
       " 'C:\\\\Users\\\\shweata\\\\dictionary\\\\pygetpapers_workflow\\\\cyclic_voltammetry_refined_20210823\\\\PMC8348188\\\\sections\\\\1_body\\\\1_2__material_and_methods\\\\3_2_3__electrochemical_inve\\\\2_p.xml',\n",
       " 'C:\\\\Users\\\\shweata\\\\dictionary\\\\pygetpapers_workflow\\\\cyclic_voltammetry_refined_20210823\\\\PMC8348188\\\\sections\\\\1_body\\\\1_2__material_and_methods\\\\3_2_3__electrochemical_inve\\\\3_p.xml',\n",
       " 'C:\\\\Users\\\\shweata\\\\dictionary\\\\pygetpapers_workflow\\\\cyclic_voltammetry_refined_20210823\\\\PMC8348188\\\\sections\\\\1_body\\\\1_2__material_and_methods\\\\3_2_3__electrochemical_inve\\\\4_p.xml']"
      ]
     },
     "execution_count": 43,
     "metadata": {},
     "output_type": "execute_result"
    }
   ],
   "source": [
    "import os\n",
    "import glob\n",
    "WORKING_DIRECTORY = os.getcwd()\n",
    "glob_results = glob.glob(os.path.join(WORKING_DIRECTORY,\"cyclic_voltammetry_refined_20210823\",\"*\", \"sections\", \"**\", \"*method*\",\"**\" ,\"*_p.xml\"), recursive = True)\n",
    "\n",
    "glob_results"
   ]
  },
  {
   "cell_type": "code",
   "execution_count": 57,
   "id": "ff3ad521-38a0-4630-ae66-d62b3533d256",
   "metadata": {},
   "outputs": [],
   "source": [
    "from bs4 import BeautifulSoup\n",
    "file1 = open(\"results_glob_refined_20210823_6.txt\",\"w+\", encoding='utf-8')\n",
    "import xml.etree.ElementTree as ET\n",
    "for result in glob_results:\n",
    "    tree = ET.parse(result)\n",
    "    root = tree.getroot()\n",
    "    xmlstr = ET.tostring(root, encoding='utf8', method='xml')\n",
    "    soup = BeautifulSoup(xmlstr, features='lxml')\n",
    "    text = soup.get_text(separator=\"\")\n",
    "    paragraph_text = text.replace(\n",
    "        '\\n', '')\n",
    "    for para in root.iter('p'):\n",
    "        print (para.text, file = file1)"
   ]
  },
  {
   "cell_type": "code",
   "execution_count": 46,
   "id": "a8ae4479-0427-40d8-8218-713e9a69abf8",
   "metadata": {},
   "outputs": [
    {
     "data": {
      "text/plain": [
       "['Carl Zeiss',\n",
       " 'field emission source',\n",
       " 'Eco ATR sampling',\n",
       " 'Powder XRD measurements',\n",
       " 'SEM imaging',\n",
       " 'field emission',\n",
       " 'Eco ATR',\n",
       " 'Powder',\n",
       " 'β-Li Size-tailored',\n",
       " 'ALPHA FT-IR spectrometer',\n",
       " 'ATR sampling module',\n",
       " 'cathode material',\n",
       " 'measurements',\n",
       " 'XRD measurements',\n",
       " 'cathode',\n",
       " 'Powder XRD',\n",
       " 'SEM',\n",
       " 'Carl',\n",
       " 'Zeiss',\n",
       " 'EIS']"
      ]
     },
     "execution_count": 46,
     "metadata": {},
     "output_type": "execute_result"
    }
   ],
   "source": [
    "import pathlib\n",
    "text = pathlib.Path(\"results_glob_refined_20210823_4.txt\").read_text(encoding='utf-8')\n",
    "import yake\n",
    "\n",
    "kw_extractor = yake.KeywordExtractor()\n",
    "keywords = kw_extractor.extract_keywords(text)\n",
    "keywords_list = []\n",
    "for kw in keywords:\n",
    "\tkeywords_list.append(kw[0])\n",
    "'''   \n",
    "keyword_list = []\n",
    "for keyword in keywords_list_with_scores:\n",
    "    first_tuple_elements.append(a_tuple[0])\n",
    "'''\n",
    "keywords_list"
   ]
  },
  {
   "cell_type": "code",
   "execution_count": 40,
   "id": "5e741255-883f-4c43-b0dc-82b2ced2ae29",
   "metadata": {},
   "outputs": [],
   "source": [
    "import os\n",
    "HITS_2 = 20\n",
    "OUTPUT_2 = 'results_2'\n",
    "#TERMS = os.path.join(WORKING_DIRECTORY, 'terms.txt')\n",
    "QUERY2 = \"(electrochemistry) AND batteries NOT polymer\" "
   ]
  },
  {
   "cell_type": "code",
   "execution_count": null,
   "id": "4fb19ce0-d39b-4c49-a689-d582915e9dba",
   "metadata": {},
   "outputs": [],
   "source": [
    "keywords_list_string = ', '.join(str(i) for i in keywords_list)\n",
    "with open('terms.txt', 'w') as fo:\n",
    "    fo.write(keywords_list_string)"
   ]
  },
  {
   "cell_type": "code",
   "execution_count": 41,
   "id": "809630a9-9f3b-4295-9aff-408a556f547a",
   "metadata": {},
   "outputs": [
    {
     "name": "stderr",
     "output_type": "stream",
     "text": [
      "\u001b[1;30mINFO:\u001b[0m Final query is (electrochemistry) AND batteries NOT polymer\n",
      "\u001b[1;30mINFO:\u001b[0m Total Hits are 2258\n",
      "\n",
      "0it [00:00, ?it/s]\u001b[1;30mWARNING:\u001b[0m \u001b[33mhtml url not found for paper 1\u001b[0m\n",
      "\u001b[1;30mWARNING:\u001b[0m \u001b[33mKeywords not found for paper 1\u001b[0m\n",
      "\u001b[1;30mWARNING:\u001b[0m \u001b[33mpdf url not found for paper 1\u001b[0m\n",
      "\u001b[1;30mWARNING:\u001b[0m \u001b[33mAbstract not found for paper 2\u001b[0m\n",
      "\u001b[1;30mWARNING:\u001b[0m \u001b[33mKeywords not found for paper 3\u001b[0m\n",
      "\u001b[1;30mWARNING:\u001b[0m \u001b[33mKeywords not found for paper 4\u001b[0m\n",
      "\u001b[1;30mWARNING:\u001b[0m \u001b[33mKeywords not found for paper 8\u001b[0m\n",
      "\u001b[1;30mWARNING:\u001b[0m \u001b[33mKeywords not found for paper 9\u001b[0m\n",
      "\n",
      "1it [00:00, 485.90it/s]\n",
      "\u001b[1;30mINFO:\u001b[0m Saving XML files to C:\\Users\\shweata\\dictionary\\pygetpapers_workflow\\cyclic_voltammetry_refined_20210823\\*\\fulltext.xml\n",
      "\n",
      "  0%|          | 0/10 [00:00<?, ?it/s]\n",
      " 10%|#         | 1/10 [00:01<00:16,  1.82s/it]\n",
      " 20%|##        | 2/10 [00:02<00:11,  1.42s/it]\n",
      " 30%|###       | 3/10 [00:05<00:13,  1.93s/it]\n",
      " 40%|####      | 4/10 [00:07<00:11,  1.95s/it]\n",
      " 50%|#####     | 5/10 [00:09<00:10,  2.09s/it]\n",
      " 60%|######    | 6/10 [00:12<00:08,  2.24s/it]\n",
      " 70%|#######   | 7/10 [00:14<00:06,  2.11s/it]\n",
      " 80%|########  | 8/10 [00:15<00:04,  2.01s/it]\n",
      " 90%|######### | 9/10 [00:18<00:02,  2.02s/it]\n",
      "100%|##########| 10/10 [00:20<00:00,  2.02s/it]\n",
      "100%|##########| 10/10 [00:20<00:00,  2.01s/it]\n"
     ]
    }
   ],
   "source": [
    "!pygetpapers -k 10 -x -o cyclic_voltammetry_refined_20210823 -q \"$QUERY2\""
   ]
  },
  {
   "cell_type": "code",
   "execution_count": 42,
   "id": "9c0441d1-2cf7-492f-a5d6-e8e12edbf066",
   "metadata": {},
   "outputs": [
    {
     "name": "stderr",
     "output_type": "stream",
     "text": [
      "\n",
      "Generic values (AMISectionTool)\n",
      "================================\n",
      "\n",
      "Specific values (AMISectionTool)\n",
      "================================\n",
      "AMISectionTool cTree: PMC7726348\n",
      "AMISectionTool cTree: PMC7940408\n",
      "AMISectionTool cTree: PMC7970484\n",
      "AMISectionTool cTree: PMC8024995\n",
      "[Fatal Error] :-1:-1: Premature end of file.\n",
      "Cannot read article, SKIPPING Cannot parse XML\n",
      "ERROR, skipped: cannot list files in cyclic_voltammetry_refined_20210823\\PMC8024995\\sections\n",
      "AMISectionTool cTree: PMC8025003\n",
      "no class for: postal-code\n",
      "Unknown JATS Span postal-code\n",
      "no class for: postal-code\n",
      "Unknown JATS Span postal-code\n",
      "no class for: postal-code\n",
      "Unknown JATS Span postal-code\n",
      "no class for: postal-code\n",
      "Unknown JATS Span postal-code\n",
      "no class for: postal-code\n",
      "Unknown JATS Span postal-code\n",
      "AMISectionTool cTree: PMC8181144\n",
      "AMISectionTool cTree: PMC8209233\n",
      "AMISectionTool cTree: PMC8228317\n",
      "AMISectionTool cTree: PMC8263741\n",
      "AMISectionTool cTree: PMC8348188\n"
     ]
    }
   ],
   "source": [
    "!ami -p cyclic_voltammetry_refined_20210823 section"
   ]
  },
  {
   "cell_type": "code",
   "execution_count": null,
   "id": "bd7e00df-931b-48c0-93d6-eae4b9c3ad41",
   "metadata": {},
   "outputs": [],
   "source": []
  }
 ],
 "metadata": {
  "kernelspec": {
   "display_name": "Python 3",
   "language": "python",
   "name": "python3"
  },
  "language_info": {
   "codemirror_mode": {
    "name": "ipython",
    "version": 3
   },
   "file_extension": ".py",
   "mimetype": "text/x-python",
   "name": "python",
   "nbconvert_exporter": "python",
   "pygments_lexer": "ipython3",
   "version": "3.8.10"
  }
 },
 "nbformat": 4,
 "nbformat_minor": 5
}
