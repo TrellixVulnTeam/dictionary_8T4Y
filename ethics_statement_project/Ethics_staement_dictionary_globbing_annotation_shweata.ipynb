{
 "cells": [
  {
   "cell_type": "code",
   "execution_count": 1,
   "id": "f3bc94a8-799b-401c-a84d-29f94eacb66a",
   "metadata": {},
   "outputs": [],
   "source": [
    "import os\n",
    "import pandas as pd\n",
    "import pathlib\n",
    "import re\n",
    "from glob import glob\n",
    "import xml.etree.ElementTree as ET\n",
    "import spacy \n",
    "from spacy import displacy"
   ]
  },
  {
   "cell_type": "code",
   "execution_count": null,
   "id": "a09e4bb9-910c-4478-898d-c05d8505f7f3",
   "metadata": {},
   "outputs": [],
   "source": [
    "#!pip install git+git://github.com/petermr/pygetpapers\n",
    "QUERY = \"ethics statement frontiers\"\n",
    "HITS = 100\n",
    "OUTPUT = 'ethics_statement_frontiers_100'\n",
    "!pygetpapers -q \"$QUERY\" -k $HITS -o $OUTPUT -x\n"
   ]
  },
  {
   "cell_type": "code",
   "execution_count": null,
   "id": "566555cc-7d0d-4548-9dc1-d67bc2c7d776",
   "metadata": {},
   "outputs": [],
   "source": [
    "#!git clone https://github.com/petermr/ami3.git\n",
    "#!cd ami3\n",
    "#!mvn install -Dmaven.test.skip=true\n",
    "!ami -p $OUTPUT section"
   ]
  },
  {
   "cell_type": "code",
   "execution_count": null,
   "id": "a8f6ad31-5a85-4a0a-b168-30609d844af5",
   "metadata": {},
   "outputs": [],
   "source": [
    "HOME= 'C:/Users/shweata/dictionary/ethics_statement_project'\n",
    "ethics_statements = glob(os.path.join(HOME, OUTPUT, 'PMC*', 'sections','*', '[0-9]_ethic*', '[1_9]_p.xml'))\n",
    "ethics_statements\n",
    "#len(ethics_statements)"
   ]
  },
  {
   "cell_type": "code",
   "execution_count": null,
   "id": "138c1b77-8837-4342-bfaa-7fc25399e292",
   "metadata": {},
   "outputs": [],
   "source": [
    "\n",
    "#path = os.path.join(HOME, 'e_cancer_clinical_trial_50', 'PMC*', 'sections','*', '*', '[1_9]_p.xml')\n",
    "#normalized_path = os.path.normpath(path)\n",
    "search_term = \"ethic\"\n",
    "\n",
    "files_to_check = []\n",
    "\n",
    "# looping through all the filenames returned\n",
    "# returns only the fulltext.xml since we don't look in the sub-directories\n",
    "# set recursive = False - doesn't look in sub-directories\n",
    "for filename in glob(os.path.join(HOME, 'e_cancer_clinical_trial_50', 'PMC*', 'sections','*', '*', '*.xml'), recursive=False):\n",
    "    # adding error handling just in case!\n",
    "    try:\n",
    "        with open(filename) as f:\n",
    "            # read the file as a string\n",
    "            contents = f.read()\n",
    "            # if the search term is found append to the list of files\n",
    "            if(search_term in contents):\n",
    "                files_to_check.append(filename)\n",
    "    except:\n",
    "        pass\n",
    "files_to_check\n",
    "#len(ethics_statements)"
   ]
  },
  {
   "cell_type": "code",
   "execution_count": null,
   "id": "0f2a74f4-e5cd-463c-8222-d5dc9de8dd88",
   "metadata": {},
   "outputs": [],
   "source": [
    "file1 = open(\"ethics_statements_frontiers_100.txt\",\"w+\", encoding='utf-8')\n",
    "for file in ethics_statements:\n",
    "    tree = ET.parse(file)\n",
    "    root = tree.getroot()\n",
    "    for para in root.iter('p'):\n",
    "        #file1.write('para.text')\n",
    "        print (para.text, file = file1)\n",
    "\n",
    "text = pathlib.Path(\"ethics_statements_frontiers_100.txt\").read_text(encoding='utf-8')"
   ]
  },
  {
   "cell_type": "code",
   "execution_count": null,
   "id": "e2a850da-d530-4c35-8731-fdbcacd27d53",
   "metadata": {},
   "outputs": [],
   "source": [
    "nlp = spacy.load(\"en_core_web_sm\")\n",
    "\n",
    "\n",
    "#!python -m pip install icecream\n",
    "#from icecream import ic\n",
    "doc = nlp(text)\n",
    "\n",
    "\n",
    "entities = []\n",
    "labels = []\n",
    "position_start = []\n",
    "position_end = []\n",
    "\n",
    "for ent in doc.ents:\n",
    "    entities.append(ent)\n",
    "    labels.append(ent.label_)\n",
    "    position_start.append(ent.start_char)\n",
    "    position_end.append(ent.end_char)\n",
    "    \n",
    "df = pd.DataFrame({'Entities':entities,'Labels':labels,'Position_Start':position_start, 'Position_End':position_end})\n",
    "#pd.set_option(\"display.max_rows\", None, \"display.max_columns\", None)\n",
    "df.to_csv('entity_recognition_spacy_ethics_statement_frontiers_100.csv', encoding='utf-8')\n",
    "#ic(entities, labels)\n"
   ]
  },
  {
   "cell_type": "code",
   "execution_count": null,
   "id": "6cc07e3a-c10c-4dfd-9470-25b44d2d7377",
   "metadata": {},
   "outputs": [],
   "source": [
    "pattern = re.compile(r'approved\\sby\\sthe\\sEthics\\sCommittee\\sof\\s[a-zA-Z]*.')\n",
    "matches=pattern.finditer(text)\n",
    "for match in matches:\n",
    "    print(match)"
   ]
  },
  {
   "cell_type": "code",
   "execution_count": null,
   "id": "0acac1d2-e293-4873-bccd-012d316333cb",
   "metadata": {},
   "outputs": [],
   "source": [
    "# Trials/Experiments that didn't require ethics committee\n",
    "pattern = re.compile(r'not\\srequired\\s[a-zA-Z]*.')\n",
    "matches=pattern.findall(text)\n",
    "for match in matches:\n",
    "    print(match)\n",
    "len(matches)"
   ]
  },
  {
   "cell_type": "code",
   "execution_count": 3,
   "id": "53e03576-9f41-422d-af91-03eb4b9b932d",
   "metadata": {},
   "outputs": [],
   "source": [
    "#!pip install sparqlwrapper\n",
    "\n",
    "import sys\n",
    "from SPARQLWrapper import SPARQLWrapper, JSON, XML\n",
    "sparql = SPARQLWrapper(\"https://query.wikidata.org/sparql\", agent=\"Mozilla/5.0 (X11; Linux x86_64) AppleWebKit/537.11 (KHTML, like Gecko) Chrome/23.0.1271.64 Safari/537.11\")\n",
    "\n"
   ]
  },
  {
   "cell_type": "code",
   "execution_count": 4,
   "id": "8167575a-5b3c-4175-98a5-96efc93c7c8c",
   "metadata": {},
   "outputs": [
    {
     "ename": "TypeError",
     "evalue": "'Document' object is not subscriptable",
     "output_type": "error",
     "traceback": [
      "\u001b[1;31m---------------------------------------------------------------------------\u001b[0m",
      "\u001b[1;31mTypeError\u001b[0m                                 Traceback (most recent call last)",
      "\u001b[1;32m<ipython-input-4-769bc4619e3c>\u001b[0m in \u001b[0;36m<module>\u001b[1;34m\u001b[0m\n\u001b[0;32m     21\u001b[0m \u001b[0mresults_xml\u001b[0m \u001b[1;33m=\u001b[0m \u001b[0mget_results\u001b[0m\u001b[1;33m(\u001b[0m\u001b[0mendpoint_url\u001b[0m\u001b[1;33m,\u001b[0m \u001b[0mquery\u001b[0m\u001b[1;33m)\u001b[0m\u001b[1;33m\u001b[0m\u001b[1;33m\u001b[0m\u001b[0m\n\u001b[0;32m     22\u001b[0m \u001b[1;33m\u001b[0m\u001b[0m\n\u001b[1;32m---> 23\u001b[1;33m \u001b[1;32mfor\u001b[0m \u001b[0mresult\u001b[0m \u001b[1;32min\u001b[0m \u001b[0mresults_xml\u001b[0m\u001b[1;33m[\u001b[0m\u001b[1;34m\"results\"\u001b[0m\u001b[1;33m]\u001b[0m\u001b[1;33m[\u001b[0m\u001b[1;34m\"bindings\"\u001b[0m\u001b[1;33m]\u001b[0m\u001b[1;33m:\u001b[0m\u001b[1;33m\u001b[0m\u001b[1;33m\u001b[0m\u001b[0m\n\u001b[0m\u001b[0;32m     24\u001b[0m     \u001b[0mprint\u001b[0m\u001b[1;33m(\u001b[0m\u001b[0mresult\u001b[0m\u001b[1;33m)\u001b[0m\u001b[1;33m\u001b[0m\u001b[1;33m\u001b[0m\u001b[0m\n",
      "\u001b[1;31mTypeError\u001b[0m: 'Document' object is not subscriptable"
     ]
    }
   ],
   "source": [
    "endpoint_url = \"https://query.wikidata.org/sparql\"\n",
    "\n",
    "query = \"\"\"SELECT DISTINCT ?org ?orgLabel ?acronym WHERE {\n",
    "  ?org wdt:P3500 ?ringgold .\n",
    "  ?org wdt:P1813 ?acronym .\n",
    "  ?person wdt:P108 ?org .\n",
    "  ?paper wdt:P50 ?person .\n",
    "  SERVICE wikibase:label { bd:serviceParam wikibase:language \"[AUTO_LANGUAGE],en\". }\n",
    "}\"\"\"\n",
    "\n",
    "\n",
    "def get_results(endpoint_url, query):\n",
    "    user_agent = \"WDQS-example Python/%s.%s\" % (sys.version_info[0], sys.version_info[1])\n",
    "    # TODO adjust user agent; see https://w.wiki/CX6\n",
    "    sparql = SPARQLWrapper(endpoint_url, agent=user_agent)\n",
    "    sparql.setQuery(query)\n",
    "    \n",
    "    sparql.setReturnFormat(XML)\n",
    "    return sparql.query().convert()\n",
    "\n",
    "results_xml = get_results(endpoint_url, query)\n",
    "\n",
    "for result in results_xml[\"results\"][\"bindings\"]:\n",
    "    print(result)\n"
   ]
  },
  {
   "cell_type": "code",
   "execution_count": 24,
   "id": "8def8c1d-b1a1-42f9-80c2-5d30287d3c88",
   "metadata": {},
   "outputs": [],
   "source": [
    "import sys\n",
    "from SPARQLWrapper import SPARQLWrapper, XML\n",
    "\n",
    "endpoint_url = \"https://query.wikidata.org/sparql\"\n",
    "\n",
    "query = \"\"\"SELECT ?ethics_committee ?ethics_committeeLabel WHERE {\n",
    "  ?ethics_committee wdt:P31 wd:Q59057226 .\n",
    "  SERVICE wikibase:label { bd:serviceParam wikibase:language \"[AUTO_LANGUAGE],en\". }\n",
    "}\n",
    "  \"\"\"\n",
    "\n",
    "\n",
    "def get_results_xml(endpoint_url, query):\n",
    "    user_agent = \"WDQS-example Python/%s.%s\" % (sys.version_info[0], sys.version_info[1])\n",
    "    # TODO adjust user agent; see https://w.wiki/CX6\n",
    "    sparql = SPARQLWrapper(endpoint_url, agent=user_agent)\n",
    "    sparql.setQuery(query)\n",
    "    sparql.setReturnFormat(XML)\n",
    "    return sparql.query().convert().toxml()\n",
    "\n",
    "results = get_results_xml(endpoint_url, query)\n",
    "file2 = open(\"ethics_committee_sparql_test.xml\",\"w+\", encoding='utf-8')\n",
    "print(results, file = file2)"
   ]
  },
  {
   "cell_type": "code",
   "execution_count": 6,
   "id": "4be8ac29-104c-44ca-b672-58c7ddcde30a",
   "metadata": {},
   "outputs": [],
   "source": [
    "import sys\n",
    "from SPARQLWrapper import SPARQLWrapper, XML\n",
    "\n",
    "endpoint_url = \"https://query.wikidata.org/sparql\"\n",
    "\n",
    "query = \"\"\"SELECT ?ethics_committee ?ethics_committeeLabel WHERE {\n",
    "  ?ethics_committee wdt:P31 wd:Q59057226 .\n",
    "  SERVICE wikibase:label { bd:serviceParam wikibase:language \"[AUTO_LANGUAGE],en\". }\n",
    "}\"\"\"\n",
    "\n",
    "\n",
    "def get_results_xml(endpoint_url, query):\n",
    "    user_agent = \"WDQS-example Python/%s.%s\" % (sys.version_info[0], sys.version_info[1])\n",
    "    # TODO adjust user agent; see https://w.wiki/CX6\n",
    "    sparql = SPARQLWrapper(endpoint_url, agent=user_agent)\n",
    "    sparql.setQuery(query)\n",
    "    sparql.setReturnFormat(XML)\n",
    "    return sparql.query().convert().toxml()\n",
    "\n",
    "results = get_results_xml(endpoint_url, query)\n",
    "file2 = open(\"ethics_committee.xml\",\"w+\", encoding='utf-8')\n",
    "print (results, file = file2)"
   ]
  },
  {
   "cell_type": "code",
   "execution_count": 19,
   "id": "89b37e7d-fa98-441c-964a-65e38d886216",
   "metadata": {},
   "outputs": [
    {
     "data": {
      "text/plain": [
       "1"
      ]
     },
     "execution_count": 19,
     "metadata": {},
     "output_type": "execute_result"
    }
   ],
   "source": [
    "import os\n",
    "os.system('amidict -vv --dictionary ethics_committee --directory plant_genus_dictionary --input ethics_committee_sparql.xml create --informat wikisparqlxml --sparqlmap wikidataURL=ethics_committee,term=ethics_committeeLabel,wikidataURL=ethics_committee --transformName wikidataID=EXTRACT(wikidataURL,.*/(.*))')"
   ]
  }
 ],
 "metadata": {
  "kernelspec": {
   "display_name": "Python 3",
   "language": "python",
   "name": "python3"
  },
  "language_info": {
   "codemirror_mode": {
    "name": "ipython",
    "version": 3
   },
   "file_extension": ".py",
   "mimetype": "text/x-python",
   "name": "python",
   "nbconvert_exporter": "python",
   "pygments_lexer": "ipython3",
   "version": "3.8.10"
  }
 },
 "nbformat": 4,
 "nbformat_minor": 5
}
