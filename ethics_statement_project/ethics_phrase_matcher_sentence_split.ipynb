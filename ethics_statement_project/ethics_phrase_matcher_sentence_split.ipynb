{
 "cells": [
  {
   "cell_type": "code",
   "execution_count": 1,
   "id": "748c9a4c-28f0-4d53-9676-a3c4603fa562",
   "metadata": {},
   "outputs": [
    {
     "data": {
      "text/plain": [
       "['animal ethics committee ',\n",
       " 'animal study was reviewed and approved by',\n",
       " 'appropriate approval',\n",
       " 'approved by',\n",
       " 'approved by the institutional review board ',\n",
       " 'approved the study',\n",
       " 'declaration of helsinki',\n",
       " 'ethical approval was authorized through',\n",
       " 'ethical clearance',\n",
       " 'ethics committee',\n",
       " 'ethics committeee',\n",
       " 'ethics committees',\n",
       " 'ethics guidelines',\n",
       " 'experimental protocols were approved by',\n",
       " 'good clinical practice',\n",
       " 'informed and written consent',\n",
       " 'informed consent',\n",
       " 'international conference on harmonisation good clinical practice guidelines',\n",
       " 'international council for harmonisation of technical requirements for pharmaceuticals for human use',\n",
       " 'legal guardian',\n",
       " 'local ethical committees',\n",
       " 'national legislation',\n",
       " 'next of kin',\n",
       " 'principle of laboratory animal care ',\n",
       " 'principles of good clinical practice',\n",
       " 'protocol was approved by',\n",
       " 'reviewed',\n",
       " 'studies involving human participants were reviewed and approved by ',\n",
       " 'written consent',\n",
       " 'written informed consent']"
      ]
     },
     "execution_count": 1,
     "metadata": {},
     "output_type": "execute_result"
    }
   ],
   "source": [
    "import os\n",
    "import xml.etree.ElementTree as ET\n",
    "HOME = os.getcwd()\n",
    "xml_path = os.path.join(HOME, 'ethics_dictionary','ethics_key_phrases', 'ethics_key_phrases.xml' )\n",
    "tree = ET.parse(xml_path)\n",
    "root = tree.getroot()\n",
    "terms = []\n",
    "for para in root.iter('entry'):\n",
    "    terms.append(para.attrib[\"term\"])\n",
    "terms"
   ]
  },
  {
   "cell_type": "code",
   "execution_count": null,
   "id": "f2910250-a506-45c6-8f4d-1ba902351506",
   "metadata": {},
   "outputs": [],
   "source": []
  },
  {
   "cell_type": "code",
   "execution_count": 2,
   "id": "fb157194-6768-46af-a440-f6dd0c4037aa",
   "metadata": {},
   "outputs": [],
   "source": [
    "import spacy\n",
    "nlp = spacy.load('en_core_web_sm')\n",
    "from spacy.matcher import PhraseMatcher\n",
    "matcher = PhraseMatcher(nlp.vocab, attr='LOWER')\n",
    "patterns = [nlp(text) for text in terms]\n",
    "matcher.add(\"TerminologyList\", patterns)"
   ]
  },
  {
   "cell_type": "code",
   "execution_count": 7,
   "id": "2f0e397c-9dfa-4fba-80b0-d9f92fc6e07a",
   "metadata": {},
   "outputs": [
    {
     "name": "stdout",
     "output_type": "stream",
     "text": [
      "3766102292120407359\n"
     ]
    }
   ],
   "source": [
    "import os\n",
    "import spacy\n",
    "import pandas as pd\n",
    "from spacy.lang.en import English \n",
    "nlp = English()\n",
    "nlp.add_pipe('sentencizer')\n",
    "nlp = spacy.load('en_core_web_sm')\n",
    "\n",
    "HOME = os.getcwd()\n",
    "#df = pd.read_csv(os.path.join(HOME,'stem_cell_2018_20210703.csv'), usecols = ['parsed'])\n",
    "#parsed_ethics_statement = df.parsed.to_list()\n",
    "\n",
    "#for ethics_statement in parsed_ethics_statement:\n",
    "#    text_doc = nlp(ethics_statement)\n",
    "#    [str(sent).strip() for sent in text_doc.sents]\n",
    "\n",
    "def split_in_sentences(text):\n",
    "    doc = nlp(text)\n",
    "    return [str(sent).strip() for sent in doc.sents]\n",
    "sentences = split_in_sentences(\"approved by\")\n",
    "matched_phrases = []\n",
    "sentences_list_length = len(sentences)\n",
    "for i in range(sentences_list_length):\n",
    "    doc = nlp(sentences[i])\n",
    "    matches = matcher(doc)\n",
    "    for match_id, start, end in matches:\n",
    "        matched_span = doc[start:end]\n",
    "        matched_phrases.append(matched_span.text)    \n",
    "print(start)"
   ]
  },
  {
   "cell_type": "code",
   "execution_count": null,
   "id": "0c7a4702-1129-48e6-a907-1a516ad8e578",
   "metadata": {},
   "outputs": [],
   "source": [
    "csv.writer(open('output.tsv', 'w+'), delimiter='\\t').writerows(csv.reader(open(\"input.csv\")))"
   ]
  },
  {
   "cell_type": "code",
   "execution_count": 12,
   "id": "14331efb-bab1-4299-b3ce-1878ee19a2de",
   "metadata": {},
   "outputs": [
    {
     "name": "stdout",
     "output_type": "stream",
     "text": [
      "0.24313674274127023\n"
     ]
    }
   ],
   "source": [
    "import os\n",
    "#os.system('python -m spacy download en_core_web_md')\n",
    "\n",
    "\n",
    "import spacy_universal_sentence_encoder\n",
    "nlp = spacy_universal_sentence_encoder.load_model('en_use_md')\n",
    "\n",
    "# your sentences\n",
    "search_doc = nlp(\"The study protocol was approved by the Ethics Committee of The Islamic Azad University of Mashhad with this code (IR.IAU.MSHD.REC.1396.115). The patients filled in a written informed consent prior to study entry. The questionnaires were anonymous, and all collected data were regarded as confidential.\")\n",
    "\n",
    "main_doc = nlp(\"The mean age of study and control groups was 61.3±10.24 and 60.93±7.88 years respectively. Ninety percent of the cases and 56.7% of the controls were male (P=0.003). A significant difference in QoL was observed before and after treatment in each group (P<0.05). \")\n",
    "print(main_doc.similarity(search_doc))"
   ]
  },
  {
   "cell_type": "code",
   "execution_count": 11,
   "id": "6611ea95-cf06-4a22-8071-a2a4115365cd",
   "metadata": {},
   "outputs": [
    {
     "name": "stdout",
     "output_type": "stream",
     "text": [
      "0.9137207888877531\n"
     ]
    }
   ],
   "source": [
    "import os\n",
    "#os.system('python -m spacy download en_core_web_md')\n",
    "#\n",
    "\n",
    "import spacy\n",
    "# this loads the wrapper\n",
    "nlp = spacy.load('en_core_web_md')\n",
    "\n",
    "# your sentences\n",
    "search_doc = nlp(\"The study protocol was approved by the Ethics Committee of The Islamic Azad University of Mashhad with this code (IR.IAU.MSHD.REC.1396.115). The patients filled in a written informed consent prior to study entry. The questionnaires were anonymous, and all collected data were regarded as confidential.\")\n",
    "\n",
    "main_doc = nlp(\"The mean age of study and control groups was 61.3±10.24 and 60.93±7.88 years respectively. Ninety percent of the cases and 56.7% of the controls were male (P=0.003). A significant difference in QoL was observed before and after treatment in each group (P<0.05). \")\n",
    "print(main_doc.similarity(search_doc))"
   ]
  }
 ],
 "metadata": {
  "kernelspec": {
   "display_name": "Python 3",
   "language": "python",
   "name": "python3"
  },
  "language_info": {
   "codemirror_mode": {
    "name": "ipython",
    "version": 3
   },
   "file_extension": ".py",
   "mimetype": "text/x-python",
   "name": "python",
   "nbconvert_exporter": "python",
   "pygments_lexer": "ipython3",
   "version": "3.8.10"
  }
 },
 "nbformat": 4,
 "nbformat_minor": 5
}
